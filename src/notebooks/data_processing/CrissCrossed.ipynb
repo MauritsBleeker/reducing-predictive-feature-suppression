{
 "cells": [
  {
   "cell_type": "code",
   "execution_count": 62,
   "metadata": {},
   "outputs": [],
   "source": [
    "import pandas\n",
    "import pickle\n",
    "import os\n",
    "from collections import defaultdict"
   ]
  },
  {
   "cell_type": "code",
   "execution_count": 63,
   "metadata": {},
   "outputs": [],
   "source": [
    "folder = '<folder where the CxC annoations are stored>'\n",
    "file = 'sits_val.csv'\n",
    "dataset_folder = '<MS-COCO dataset folder>'"
   ]
  },
  {
   "cell_type": "code",
   "execution_count": 64,
   "metadata": {},
   "outputs": [],
   "source": [
    "df = pandas.read_csv(os.path.join(folder, file))"
   ]
  },
  {
   "cell_type": "code",
   "execution_count": 65,
   "metadata": {},
   "outputs": [],
   "source": [
    "dataset = pickle.load(open(os.path.join(dataset_folder, 'test_set_ltd.pickle') ,'rb'))"
   ]
  },
  {
   "cell_type": "code",
   "execution_count": 83,
   "metadata": {},
   "outputs": [],
   "source": [
    "file_to_id_map = {}\n",
    "for key, img in dataset['images'].items():\n",
    "    file_to_id_map[img['filename']] = key"
   ]
  },
  {
   "cell_type": "code",
   "execution_count": 119,
   "metadata": {},
   "outputs": [],
   "source": [
    "i2t = defaultdict(list)\n",
    "t2i = defaultdict(list)\n",
    "\n",
    "for i, row in df.iterrows():\n",
    "    caption_id = int(row['caption'].split(':')[2])\n",
    "    score = row['agg_score']\n",
    "    img_id = file_to_id_map[row['image']]\n",
    "    if caption_id not in dataset['images'][img_id]['caption_ids']:\n",
    "        i2t[img_id].append((caption_id, score))\n",
    "        t2i[caption_id].append((img_id, score))"
   ]
  },
  {
   "cell_type": "code",
   "execution_count": 123,
   "metadata": {},
   "outputs": [],
   "source": [
    "for img_id, values in i2t.items():\n",
    "    dataset['images'][img_id]['i2c'] = values"
   ]
  },
  {
   "cell_type": "code",
   "execution_count": 125,
   "metadata": {},
   "outputs": [],
   "source": [
    "for caption_id, values in t2i.items():\n",
    "    dataset['captions'][caption_id]['c2i'] = values"
   ]
  },
  {
   "cell_type": "code",
   "execution_count": 130,
   "metadata": {},
   "outputs": [],
   "source": [
    "pickle.dump( dataset, open(os.path.join(dataset_folder, 'test_set_ltd_match.pickle'), \"wb\" ) )"
   ]
  },
  {
   "cell_type": "code",
   "execution_count": null,
   "metadata": {},
   "outputs": [],
   "source": []
  }
 ],
 "metadata": {
  "kernelspec": {
   "display_name": "Python 3",
   "language": "python",
   "name": "python3"
  },
  "language_info": {
   "codemirror_mode": {
    "name": "ipython",
    "version": 3
   },
   "file_extension": ".py",
   "mimetype": "text/x-python",
   "name": "python",
   "nbconvert_exporter": "python",
   "pygments_lexer": "ipython3",
   "version": "3.6.13"
  }
 },
 "nbformat": 4,
 "nbformat_minor": 2
}
