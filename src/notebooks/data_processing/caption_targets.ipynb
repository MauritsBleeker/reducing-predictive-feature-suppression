{
 "cells": [
  {
   "cell_type": "code",
   "execution_count": 1,
   "metadata": {},
   "outputs": [],
   "source": [
    "from sentence_transformers import SentenceTransformer\n",
    "import pickle\n",
    "import os\n",
    "import torch"
   ]
  },
  {
   "cell_type": "code",
   "execution_count": 2,
   "metadata": {},
   "outputs": [
    {
     "data": {
      "text/plain": [
       "'\\ntarget large is making use of all-mpnet-base-v2 (d=768), normal targets are using all-MiniLM-L6-v2 (d=384)\\n'"
      ]
     },
     "execution_count": 2,
     "metadata": {},
     "output_type": "execute_result"
    }
   ],
   "source": [
    "#model = SentenceTransformer('sentence-transformers/all-MiniLM-L6-v2')\n",
    "model_large = SentenceTransformer('sentence-transformers/all-mpnet-base-v2')\n",
    "\n",
    "\"\"\"\n",
    "target large is making use of all-mpnet-base-v2 (d=768), normal targets are using all-MiniLM-L6-v2 (d=384)\n",
    "\"\"\""
   ]
  },
  {
   "cell_type": "code",
   "execution_count": 3,
   "metadata": {},
   "outputs": [],
   "source": [
    "root = '<root folder of the datasets/pickle files>'\n",
    "representation_key = 'target-large'"
   ]
  },
  {
   "cell_type": "code",
   "execution_count": 4,
   "metadata": {},
   "outputs": [],
   "source": [
    "def add_caption_targets(root, dataset, split, model,log_iter=1000, batch_size=128, representation_key='target'):\n",
    "    if torch.cuda.is_available():\n",
    "        model = model.cuda()\n",
    "        \n",
    "    data_file = pickle.load(open(os.path.join(root, dataset, split + '_set_ltd.pickle'),'rb'))\n",
    "    \n",
    "    \n",
    "    captions =[]\n",
    "    keys = []\n",
    "    i = 0 \n",
    "    for key, caption in data_file['captions'].items():\n",
    "        captions.append(caption['caption'])\n",
    "        keys.append(key)\n",
    "        \n",
    "        if i % batch_size == 0 and i > 1:\n",
    "            targets = model.encode(captions)\n",
    "            add_representations_to_data_file(data_file, targets, keys, representation_key=representation_key)\n",
    "            \n",
    "            captions =[]\n",
    "            keys = []\n",
    "    \n",
    "        i += 1\n",
    "       \n",
    "        if i % log_iter == 0:\n",
    "            print(\"Captions processed: {}\".format(i))\n",
    "    add_representations_to_data_file(data_file, targets, keys, representation_key=representation_key)     \n",
    "    \n",
    "    print(\"Finished {} {} set.\".format(dataset, split))\n",
    "    \n",
    "    return data_file\n",
    "    \n",
    "    \n",
    "def add_representations_to_data_file(data_file, targets, keys, representation_key='target'):\n",
    "    for i, key in enumerate(keys):\n",
    "        data_file['captions'][key][representation_key] = targets[i]\n"
   ]
  },
  {
   "cell_type": "code",
   "execution_count": null,
   "metadata": {},
   "outputs": [],
   "source": [
    "#f30k_training = add_caption_targets(root, dataset='f30k', split='training', model=model_large, representation_key=representation_key)\n",
    "#pickle.dump(f30k_training, open(os.path.join(root, 'f30k', 'training_set_ltd_l.pickle'),'wb'))"
   ]
  },
  {
   "cell_type": "code",
   "execution_count": null,
   "metadata": {},
   "outputs": [],
   "source": [
    "#f30k_validation = add_caption_targets(root, dataset='f30k', split='validation', model=model_large, representation_key=representation_key)\n",
    "#pickle.dump(f30k_validation, open(os.path.join(root, 'f30k', 'validation_set_ltd_l.pickle'),'wb'))"
   ]
  },
  {
   "cell_type": "code",
   "execution_count": null,
   "metadata": {},
   "outputs": [],
   "source": [
    "#f30k_test = add_caption_targets(root, dataset='f30k', split='test', model=model_large, representation_key=representation_key)\n",
    "#pickle.dump(f30k_validation, open(os.path.join(root, 'f30k', 'test_set_ltd_l.pickle'),'wb'))"
   ]
  },
  {
   "cell_type": "code",
   "execution_count": null,
   "metadata": {},
   "outputs": [],
   "source": [
    "#coco_training = add_caption_targets(root, dataset='coco', split='training', model=model_large, representation_key=representation_key)\n",
    "#pickle.dump(coco_training, open(os.path.join(root, 'coco', 'training_set_ltd_l.pickle'),'wb'))"
   ]
  },
  {
   "cell_type": "code",
   "execution_count": 9,
   "metadata": {},
   "outputs": [],
   "source": [
    "#coco_validate = add_caption_targets(root, dataset='coco', split='validation', model=model_large, representation_key=representation_key)\n",
    "#pickle.dump(coco_validate, open(os.path.join(root, 'coco', 'validation_set_ltd_l.pickle'),'wb'))"
   ]
  },
  {
   "cell_type": "code",
   "execution_count": 18,
   "metadata": {},
   "outputs": [],
   "source": [
    "#coco_test = add_caption_targets(root, dataset='coco', split='test', model=model_large, representation_key=representation_key)\n",
    "pickle.dump(coco_test, open(os.path.join(root, 'coco', 'test_set_ltd_l.pickle'),'wb'))"
   ]
  },
  {
   "cell_type": "code",
   "execution_count": 17,
   "metadata": {},
   "outputs": [
    {
     "data": {
      "text/plain": [
       "(384,)"
      ]
     },
     "execution_count": 17,
     "metadata": {},
     "output_type": "execute_result"
    }
   ],
   "source": [
    "coco_test['captions'][770337]['target'].shape"
   ]
  },
  {
   "cell_type": "code",
   "execution_count": null,
   "metadata": {},
   "outputs": [],
   "source": []
  }
 ],
 "metadata": {
  "kernelspec": {
   "display_name": "Python 3",
   "language": "python",
   "name": "python3"
  },
  "language_info": {
   "codemirror_mode": {
    "name": "ipython",
    "version": 3
   },
   "file_extension": ".py",
   "mimetype": "text/x-python",
   "name": "python",
   "nbconvert_exporter": "python",
   "pygments_lexer": "ipython3",
   "version": "3.6.13"
  }
 },
 "nbformat": 4,
 "nbformat_minor": 1
}
